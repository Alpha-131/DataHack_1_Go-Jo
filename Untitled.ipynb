{
 "cells": [
  {
   "cell_type": "code",
   "execution_count": 97,
   "id": "ef27d9bf",
   "metadata": {},
   "outputs": [],
   "source": [
    "import pandas as pd\n",
    "import numpy as np\n",
    "import matplotlib.pyplot as plt\n",
    "import re\n",
    "import plotly.express as px"
   ]
  },
  {
   "cell_type": "code",
   "execution_count": 89,
   "id": "d223a7dc",
   "metadata": {},
   "outputs": [],
   "source": [
    "df1 = pd.read_csv(r\"C:\\Users\\rachi\\OneDrive\\Desktop\\datahack_gitrepo\\datasets\\kaggle_18_21\\startup_funding2019.csv\")\n",
    "df2 = pd.read_csv(r\"C:\\Users\\rachi\\OneDrive\\Desktop\\datahack_gitrepo\\datasets\\kaggle_18_21\\startup_funding2020.csv\")\n",
    "df3 = pd.read_csv(r\"C:\\Users\\rachi\\OneDrive\\Desktop\\datahack_gitrepo\\datasets\\kaggle_18_21\\startup_funding2021.csv\")"
   ]
  },
  {
   "cell_type": "code",
   "execution_count": 90,
   "id": "63bda96f",
   "metadata": {},
   "outputs": [],
   "source": [
    "df2.drop('Unnamed: 9', axis=1, inplace=True)"
   ]
  },
  {
   "cell_type": "code",
   "execution_count": 91,
   "id": "7ad2c485",
   "metadata": {},
   "outputs": [
    {
     "name": "stdout",
     "output_type": "stream",
     "text": [
      "(89, 9)\n",
      "(1055, 9)\n",
      "(1209, 9)\n"
     ]
    }
   ],
   "source": [
    "print(df1.shape)\n",
    "print(df2.shape)\n",
    "print(df3.shape)"
   ]
  },
  {
   "cell_type": "code",
   "execution_count": 92,
   "id": "4f60165c",
   "metadata": {},
   "outputs": [],
   "source": [
    "# merge data frames\n",
    "df = pd.concat([df1,df2,df3], ignore_index=True)"
   ]
  },
  {
   "cell_type": "code",
   "execution_count": 93,
   "id": "aca61261",
   "metadata": {},
   "outputs": [
    {
     "data": {
      "text/html": [
       "<div>\n",
       "<style scoped>\n",
       "    .dataframe tbody tr th:only-of-type {\n",
       "        vertical-align: middle;\n",
       "    }\n",
       "\n",
       "    .dataframe tbody tr th {\n",
       "        vertical-align: top;\n",
       "    }\n",
       "\n",
       "    .dataframe thead th {\n",
       "        text-align: right;\n",
       "    }\n",
       "</style>\n",
       "<table border=\"1\" class=\"dataframe\">\n",
       "  <thead>\n",
       "    <tr style=\"text-align: right;\">\n",
       "      <th></th>\n",
       "      <th>Company/Brand</th>\n",
       "      <th>Founded</th>\n",
       "      <th>HeadQuarter</th>\n",
       "      <th>Sector</th>\n",
       "      <th>What it does</th>\n",
       "      <th>Founders</th>\n",
       "      <th>Investor</th>\n",
       "      <th>Amount($)</th>\n",
       "      <th>Stage</th>\n",
       "    </tr>\n",
       "  </thead>\n",
       "  <tbody>\n",
       "    <tr>\n",
       "      <th>0</th>\n",
       "      <td>Bombay Shaving</td>\n",
       "      <td>NaN</td>\n",
       "      <td>NaN</td>\n",
       "      <td>Ecommerce</td>\n",
       "      <td>Provides a range of male grooming products</td>\n",
       "      <td>Shantanu Deshpande</td>\n",
       "      <td>Sixth Sense Ventures</td>\n",
       "      <td>$6,300,000</td>\n",
       "      <td>NaN</td>\n",
       "    </tr>\n",
       "    <tr>\n",
       "      <th>1</th>\n",
       "      <td>Ruangguru</td>\n",
       "      <td>2014.0</td>\n",
       "      <td>Mumbai</td>\n",
       "      <td>Edtech</td>\n",
       "      <td>A learning platform that provides topic-based ...</td>\n",
       "      <td>Adamas Belva Syah Devara, Iman Usman.</td>\n",
       "      <td>General Atlantic</td>\n",
       "      <td>$150,000,000</td>\n",
       "      <td>Series C</td>\n",
       "    </tr>\n",
       "    <tr>\n",
       "      <th>2</th>\n",
       "      <td>Eduisfun</td>\n",
       "      <td>NaN</td>\n",
       "      <td>Mumbai</td>\n",
       "      <td>Edtech</td>\n",
       "      <td>It aims to make learning fun via games.</td>\n",
       "      <td>Jatin Solanki</td>\n",
       "      <td>Deepak Parekh, Amitabh Bachchan, Piyush Pandey</td>\n",
       "      <td>$28,000,000</td>\n",
       "      <td>Fresh funding</td>\n",
       "    </tr>\n",
       "    <tr>\n",
       "      <th>3</th>\n",
       "      <td>HomeLane</td>\n",
       "      <td>2014.0</td>\n",
       "      <td>Chennai</td>\n",
       "      <td>Interior design</td>\n",
       "      <td>Provides interior designing solutions</td>\n",
       "      <td>Srikanth Iyer, Rama Harinath</td>\n",
       "      <td>Evolvence India Fund (EIF), Pidilite Group, FJ...</td>\n",
       "      <td>$30,000,000</td>\n",
       "      <td>Series D</td>\n",
       "    </tr>\n",
       "    <tr>\n",
       "      <th>4</th>\n",
       "      <td>Nu Genes</td>\n",
       "      <td>2004.0</td>\n",
       "      <td>Telangana</td>\n",
       "      <td>AgriTech</td>\n",
       "      <td>It is a seed company engaged in production, pr...</td>\n",
       "      <td>Narayana Reddy Punyala</td>\n",
       "      <td>Innovation in Food and Agriculture (IFA)</td>\n",
       "      <td>$6,000,000</td>\n",
       "      <td>NaN</td>\n",
       "    </tr>\n",
       "  </tbody>\n",
       "</table>\n",
       "</div>"
      ],
      "text/plain": [
       "    Company/Brand Founded HeadQuarter           Sector  \\\n",
       "0  Bombay Shaving     NaN         NaN        Ecommerce   \n",
       "1       Ruangguru  2014.0      Mumbai           Edtech   \n",
       "2        Eduisfun     NaN      Mumbai           Edtech   \n",
       "3        HomeLane  2014.0     Chennai  Interior design   \n",
       "4        Nu Genes  2004.0   Telangana         AgriTech   \n",
       "\n",
       "                                        What it does  \\\n",
       "0         Provides a range of male grooming products   \n",
       "1  A learning platform that provides topic-based ...   \n",
       "2            It aims to make learning fun via games.   \n",
       "3              Provides interior designing solutions   \n",
       "4  It is a seed company engaged in production, pr...   \n",
       "\n",
       "                                Founders  \\\n",
       "0                     Shantanu Deshpande   \n",
       "1  Adamas Belva Syah Devara, Iman Usman.   \n",
       "2                          Jatin Solanki   \n",
       "3           Srikanth Iyer, Rama Harinath   \n",
       "4                 Narayana Reddy Punyala   \n",
       "\n",
       "                                            Investor     Amount($)  \\\n",
       "0                               Sixth Sense Ventures    $6,300,000   \n",
       "1                                   General Atlantic  $150,000,000   \n",
       "2     Deepak Parekh, Amitabh Bachchan, Piyush Pandey   $28,000,000   \n",
       "3  Evolvence India Fund (EIF), Pidilite Group, FJ...   $30,000,000   \n",
       "4           Innovation in Food and Agriculture (IFA)    $6,000,000   \n",
       "\n",
       "           Stage  \n",
       "0            NaN  \n",
       "1       Series C  \n",
       "2  Fresh funding  \n",
       "3       Series D  \n",
       "4            NaN  "
      ]
     },
     "execution_count": 93,
     "metadata": {},
     "output_type": "execute_result"
    }
   ],
   "source": [
    "df.head()"
   ]
  },
  {
   "cell_type": "code",
   "execution_count": 94,
   "id": "9bd66429",
   "metadata": {},
   "outputs": [
    {
     "name": "stdout",
     "output_type": "stream",
     "text": [
      "<class 'pandas.core.frame.DataFrame'>\n",
      "RangeIndex: 2353 entries, 0 to 2352\n",
      "Data columns (total 9 columns):\n",
      " #   Column         Non-Null Count  Dtype \n",
      "---  ------         --------------  ----- \n",
      " 0   Company/Brand  2353 non-null   object\n",
      " 1   Founded        2111 non-null   object\n",
      " 2   HeadQuarter    2239 non-null   object\n",
      " 3   Sector         2335 non-null   object\n",
      " 4   What it does   2353 non-null   object\n",
      " 5   Founders       2334 non-null   object\n",
      " 6   Investor       2253 non-null   object\n",
      " 7   Amount($)      2347 non-null   object\n",
      " 8   Stage          1415 non-null   object\n",
      "dtypes: object(9)\n",
      "memory usage: 165.6+ KB\n"
     ]
    }
   ],
   "source": [
    "df.info()"
   ]
  },
  {
   "cell_type": "code",
   "execution_count": 95,
   "id": "21b8e77a",
   "metadata": {},
   "outputs": [],
   "source": [
    "def convert_to_int(dataframe):\n",
    "    # First, convert all values to string type\n",
    "    dataframe['Founded'] = dataframe['Founded'].astype(str)\n",
    "\n",
    "    # Remove any decimal points and extra whitespace\n",
    "    dataframe['Founded'] = dataframe['Founded'].str.replace('.0', '').str.strip()\n",
    "\n",
    "    # Convert the column to integer\n",
    "    dataframe['Founded'] = pd.to_numeric(dataframe['Founded'], errors='coerce')\n",
    "\n",
    "    return dataframe\n",
    "\n",
    "df = convert_to_int(df)"
   ]
  },
  {
   "cell_type": "code",
   "execution_count": 99,
   "id": "048898ec",
   "metadata": {},
   "outputs": [],
   "source": [
    "def convert_amount_to_int(dataframe):\n",
    "    # Define a function to extract numeric parts from the string\n",
    "    def extract_numeric(value):\n",
    "        try:\n",
    "            # Remove any commas from the value and extract numeric part\n",
    "            numeric_part = re.sub('[^0-9.]', '', value)\n",
    "            return int(float(numeric_part))\n",
    "        except (ValueError, TypeError):\n",
    "            # Handle non-numeric values, e.g., \"Undisclosed\"\n",
    "            return None\n",
    "\n",
    "    # Apply the extract_numeric function to the \"amount\" column\n",
    "    dataframe['Amount($)'] = dataframe['Amount($)'].apply(extract_numeric)\n",
    "\n",
    "    return dataframe\n",
    "df = convert_amount_to_int(df)"
   ]
  },
  {
   "cell_type": "markdown",
   "id": "13714aa0",
   "metadata": {},
   "source": [
    "Numerical: Founded, Amount($)<br>\n",
    "Categorical: 'HeadQuarter', 'Sector','Founders', 'Investor', 'Stage'"
   ]
  },
  {
   "cell_type": "code",
   "execution_count": 106,
   "id": "7161dbb2",
   "metadata": {},
   "outputs": [],
   "source": [
    "## Univariate Analysis\n",
    "### Numerical"
   ]
  },
  {
   "cell_type": "code",
   "execution_count": 115,
   "id": "46140974",
   "metadata": {},
   "outputs": [],
   "source": [
    "a = df[\"Sector\"].value_counts().iloc[0:8]"
   ]
  },
  {
   "cell_type": "code",
   "execution_count": null,
   "id": "b4c704a4",
   "metadata": {},
   "outputs": [],
   "source": []
  },
  {
   "cell_type": "code",
   "execution_count": null,
   "id": "8a16aaa9",
   "metadata": {},
   "outputs": [],
   "source": []
  }
 ],
 "metadata": {
  "kernelspec": {
   "display_name": "Python 3 (ipykernel)",
   "language": "python",
   "name": "python3"
  },
  "language_info": {
   "codemirror_mode": {
    "name": "ipython",
    "version": 3
   },
   "file_extension": ".py",
   "mimetype": "text/x-python",
   "name": "python",
   "nbconvert_exporter": "python",
   "pygments_lexer": "ipython3",
   "version": "3.10.8"
  }
 },
 "nbformat": 4,
 "nbformat_minor": 5
}
