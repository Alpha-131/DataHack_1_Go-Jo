{
 "cells": [
  {
   "cell_type": "code",
   "execution_count": 114,
   "id": "c93438da",
   "metadata": {},
   "outputs": [],
   "source": [
    "import numpy as np\n",
    "import pandas as pd\n",
    "import matplotlib.pyplot as plt\n",
    "import seaborn as sns\n",
    "import warnings\n",
    "warnings.filterwarnings(\"ignore\")"
   ]
  },
  {
   "cell_type": "code",
   "execution_count": 115,
   "id": "6737b5d9",
   "metadata": {},
   "outputs": [],
   "source": [
    "df = pd.read_csv(r\"C:\\Users\\rachi\\OneDrive\\Desktop\\datahack_gitrepo\\datasets\\kaggle_18_21\\startup_funding2021.csv\")"
   ]
  },
  {
   "cell_type": "code",
   "execution_count": 116,
   "id": "827f1595",
   "metadata": {},
   "outputs": [],
   "source": [
    "df.dropna(inplace=True)"
   ]
  },
  {
   "cell_type": "code",
   "execution_count": 117,
   "id": "aff67d25",
   "metadata": {},
   "outputs": [
    {
     "name": "stdout",
     "output_type": "stream",
     "text": [
      "<class 'pandas.core.frame.DataFrame'>\n",
      "Int64Index: 741 entries, 0 to 1208\n",
      "Data columns (total 9 columns):\n",
      " #   Column         Non-Null Count  Dtype  \n",
      "---  ------         --------------  -----  \n",
      " 0   Company/Brand  741 non-null    object \n",
      " 1   Founded        741 non-null    float64\n",
      " 2   HeadQuarter    741 non-null    object \n",
      " 3   Sector         741 non-null    object \n",
      " 4   What it does   741 non-null    object \n",
      " 5   Founders       741 non-null    object \n",
      " 6   Investor       741 non-null    object \n",
      " 7   Amount($)      741 non-null    object \n",
      " 8   Stage          741 non-null    object \n",
      "dtypes: float64(1), object(8)\n",
      "memory usage: 57.9+ KB\n"
     ]
    }
   ],
   "source": [
    "df.info()"
   ]
  },
  {
   "cell_type": "code",
   "execution_count": 118,
   "id": "91f24cf1",
   "metadata": {},
   "outputs": [
    {
     "data": {
      "text/plain": [
       "array([1989., 1994., 1999., 2000., 2002., 2004., 2007., 2008., 2009.,\n",
       "       2010., 2011., 2012., 2013., 2014., 2015., 2016., 2017., 2018.,\n",
       "       2019., 2020., 2021.])"
      ]
     },
     "execution_count": 118,
     "metadata": {},
     "output_type": "execute_result"
    }
   ],
   "source": [
    "np.sort(df[\"Founded\"].unique())"
   ]
  },
  {
   "cell_type": "code",
   "execution_count": 119,
   "id": "dd38b3d9",
   "metadata": {},
   "outputs": [
    {
     "data": {
      "text/plain": [
       "Index(['Company/Brand', 'Founded', 'HeadQuarter', 'Sector', 'What it does',\n",
       "       'Founders', 'Investor', 'Amount($)', 'Stage'],\n",
       "      dtype='object')"
      ]
     },
     "execution_count": 119,
     "metadata": {},
     "output_type": "execute_result"
    }
   ],
   "source": [
    "df.columns"
   ]
  },
  {
   "cell_type": "code",
   "execution_count": 120,
   "id": "d3531162",
   "metadata": {},
   "outputs": [],
   "source": [
    "def convert_to_int(dataframe):\n",
    "    # First, convert all values to string type\n",
    "    dataframe['Founded'] = dataframe['Founded'].astype(str)\n",
    "\n",
    "    # Remove any decimal points and extra whitespace\n",
    "    dataframe['Founded'] = dataframe['Founded'].str.replace('.0', '').str.strip()\n",
    "\n",
    "    # Convert the column to integer\n",
    "    dataframe['Founded'] = pd.to_numeric(dataframe['Founded'], errors='coerce')\n",
    "\n",
    "    return dataframe\n",
    "\n",
    "df = convert_to_int(df)"
   ]
  },
  {
   "cell_type": "code",
   "execution_count": 121,
   "id": "6be5b393",
   "metadata": {},
   "outputs": [],
   "source": [
    "def convert_amount_to_int(dataframe):\n",
    "    # Define a function to extract numeric parts from the string\n",
    "    def extract_numeric(value):\n",
    "        try:\n",
    "            # Remove any commas from the value and extract numeric part\n",
    "            numeric_part = re.sub('[^0-9.]', '', value)\n",
    "            return int(float(numeric_part))\n",
    "        except (ValueError, TypeError):\n",
    "            # Handle non-numeric values, e.g., \"Undisclosed\"\n",
    "            return None\n",
    "\n",
    "    # Apply the extract_numeric function to the \"amount\" column\n",
    "    dataframe['Amount($)'] = dataframe['Amount($)'].apply(extract_numeric)\n",
    "\n",
    "    return dataframe\n",
    "df = convert_amount_to_int(df)"
   ]
  },
  {
   "cell_type": "code",
   "execution_count": 122,
   "id": "9e9e583f",
   "metadata": {},
   "outputs": [
    {
     "data": {
      "text/plain": [
       "Index(['Company/Brand', 'Founded', 'HeadQuarter', 'Sector', 'What it does',\n",
       "       'Founders', 'Investor', 'Amount($)', 'Stage'],\n",
       "      dtype='object')"
      ]
     },
     "execution_count": 122,
     "metadata": {},
     "output_type": "execute_result"
    }
   ],
   "source": [
    "df.columns"
   ]
  },
  {
   "cell_type": "code",
   "execution_count": 123,
   "id": "ff9bbe87",
   "metadata": {},
   "outputs": [],
   "source": [
    "cd = ['HeadQuarter', 'Sector', 'Founders', 'Investor','Stage']\n",
    "nd = ['Founded', 'Amount($)']"
   ]
  },
  {
   "cell_type": "code",
   "execution_count": 124,
   "id": "7acd0a38",
   "metadata": {},
   "outputs": [
    {
     "data": {
      "text/plain": [
       "<Figure size 640x480 with 0 Axes>"
      ]
     },
     "metadata": {},
     "output_type": "display_data"
    },
    {
     "data": {
      "image/png": "[encoded data removed]",
      "text/plain": [
       "<Figure size 500x500 with 1 Axes>"
      ]
     },
     "metadata": {},
     "output_type": "display_data"
    },
    {
     "data": {
      "text/plain": [
       "<Figure size 640x480 with 0 Axes>"
      ]
     },
     "metadata": {},
     "output_type": "display_data"
    },
    {
     "data": {
      "image/png": "[encoded data removed]",
      "text/plain": [
       "<Figure size 500x500 with 1 Axes>"
      ]
     },
     "metadata": {},
     "output_type": "display_data"
    }
   ],
   "source": [
    "skewness = []\n",
    "for i in nd:\n",
    "    plt.figure()\n",
    "    sns.displot(df[i])\n",
    "    skewness.append(df[i].skew())"
   ]
  },
  {
   "cell_type": "code",
   "execution_count": null,
   "id": "7b150c03",
   "metadata": {},
   "outputs": [],
   "source": []
  },
  {
   "cell_type": "code",
   "execution_count": null,
   "id": "3fc434fc",
   "metadata": {},
   "outputs": [],
   "source": []
  },
  {
   "cell_type": "code",
   "execution_count": null,
   "id": "73203940",
   "metadata": {},
   "outputs": [],
   "source": []
  }
 ],
 "metadata": {
  "kernelspec": {
   "display_name": "Python 3 (ipykernel)",
   "language": "python",
   "name": "python3"
  },
  "language_info": {
   "codemirror_mode": {
    "name": "ipython",
    "version": 3
   },
   "file_extension": ".py",
   "mimetype": "text/x-python",
   "name": "python",
   "nbconvert_exporter": "python",
   "pygments_lexer": "ipython3",
   "version": "3.10.8"
  }
 },
 "nbformat": 4,
 "nbformat_minor": 5
}
